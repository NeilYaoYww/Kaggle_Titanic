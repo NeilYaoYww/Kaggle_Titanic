{
 "cells": [
  {
   "cell_type": "markdown",
   "metadata": {},
   "source": [
    "#  A Journey Through Titanic\n",
    "        - https://www.kaggle.com/c/titanic\n",
    "        \n",
    "### 1. Data Understanding\n",
    "        - 1.1 Data Visualization\n",
    "\n",
    "### 2. Data Preprocessing\n",
    "        - 2.1 Missing Values\n",
    "        - 2.2 Dummy Encoding     \n",
    "        \n",
    "### 3. Feature  Engineering\n",
    "        - 3.1 Titles\n",
    "        - 3.2 Family Size\n",
    "        - 3.3 Prepare for Modeling\n",
    "\n",
    "### 4. Data Modeling\n",
    "        - 4.1 k Nearest Neighbor\n",
    "        - 4.2 Decision Tree\n",
    "        - 4.3 Logistic Regression\n",
    "        - 4.4 Random Forest\n",
    "        - 4.5 Gradient Boosting\n",
    "        - 4.6 Model Ensemble"
   ]
  },
  {
   "cell_type": "code",
   "execution_count": 2,
   "metadata": {
    "collapsed": false
   },
   "outputs": [],
   "source": [
    "# Data Analysis\n",
    "import numpy as np\n",
    "import pandas as pd\n",
    "\n",
    "# Data Visualization\n",
    "import seaborn as sns\n",
    "import matplotlib.pyplot as plt\n",
    "sns.set_style(\"whitegrid\", {'axes.grid' : False})\n",
    "%matplotlib inline\n",
    "\n",
    "# Machine Learning\n",
    "from sklearn.svm import SVC\n",
    "from sklearn.naive_bayes import GaussianNB\n",
    "from sklearn.tree import DecisionTreeClassifier\n",
    "from sklearn.neighbors import KNeighborsClassifier\n",
    "from sklearn.linear_model import LogisticRegression\n",
    "from sklearn.ensemble import RandomForestClassifier\n",
    "from sklearn.ensemble import GradientBoostingClassifier\n",
    "\n",
    "import majority_vote_classifier as mvc\n",
    "\n",
    "from sklearn.pipeline import Pipeline\n",
    "from sklearn.metrics import accuracy_score\n",
    "from sklearn.grid_search import GridSearchCV\n",
    "from sklearn.preprocessing import MinMaxScaler\n",
    "from sklearn.cross_validation import cross_val_score\n",
    "from sklearn.cross_validation import train_test_split\n",
    "\n",
    "import warnings\n",
    "warnings.filterwarnings(\"ignore\")"
   ]
  },
  {
   "cell_type": "markdown",
   "metadata": {},
   "source": [
    "### 1. Data Understanding"
   ]
  },
  {
   "cell_type": "code",
   "execution_count": 3,
   "metadata": {
    "collapsed": false
   },
   "outputs": [
    {
     "data": {
      "text/html": [
       "<div>\n",
       "<table border=\"1\" class=\"dataframe\">\n",
       "  <thead>\n",
       "    <tr style=\"text-align: right;\">\n",
       "      <th></th>\n",
       "      <th>Age</th>\n",
       "      <th>Cabin</th>\n",
       "      <th>Embarked</th>\n",
       "      <th>Fare</th>\n",
       "      <th>Name</th>\n",
       "      <th>Parch</th>\n",
       "      <th>PassengerId</th>\n",
       "      <th>Pclass</th>\n",
       "      <th>Sex</th>\n",
       "      <th>SibSp</th>\n",
       "      <th>Survived</th>\n",
       "      <th>Ticket</th>\n",
       "    </tr>\n",
       "  </thead>\n",
       "  <tbody>\n",
       "    <tr>\n",
       "      <th>0</th>\n",
       "      <td>22.0</td>\n",
       "      <td>NaN</td>\n",
       "      <td>S</td>\n",
       "      <td>7.2500</td>\n",
       "      <td>Braund, Mr. Owen Harris</td>\n",
       "      <td>0</td>\n",
       "      <td>1</td>\n",
       "      <td>3</td>\n",
       "      <td>male</td>\n",
       "      <td>1</td>\n",
       "      <td>0.0</td>\n",
       "      <td>A/5 21171</td>\n",
       "    </tr>\n",
       "    <tr>\n",
       "      <th>1</th>\n",
       "      <td>38.0</td>\n",
       "      <td>C85</td>\n",
       "      <td>C</td>\n",
       "      <td>71.2833</td>\n",
       "      <td>Cumings, Mrs. John Bradley (Florence Briggs Th...</td>\n",
       "      <td>0</td>\n",
       "      <td>2</td>\n",
       "      <td>1</td>\n",
       "      <td>female</td>\n",
       "      <td>1</td>\n",
       "      <td>1.0</td>\n",
       "      <td>PC 17599</td>\n",
       "    </tr>\n",
       "    <tr>\n",
       "      <th>2</th>\n",
       "      <td>26.0</td>\n",
       "      <td>NaN</td>\n",
       "      <td>S</td>\n",
       "      <td>7.9250</td>\n",
       "      <td>Heikkinen, Miss. Laina</td>\n",
       "      <td>0</td>\n",
       "      <td>3</td>\n",
       "      <td>3</td>\n",
       "      <td>female</td>\n",
       "      <td>0</td>\n",
       "      <td>1.0</td>\n",
       "      <td>STON/O2. 3101282</td>\n",
       "    </tr>\n",
       "    <tr>\n",
       "      <th>3</th>\n",
       "      <td>35.0</td>\n",
       "      <td>C123</td>\n",
       "      <td>S</td>\n",
       "      <td>53.1000</td>\n",
       "      <td>Futrelle, Mrs. Jacques Heath (Lily May Peel)</td>\n",
       "      <td>0</td>\n",
       "      <td>4</td>\n",
       "      <td>1</td>\n",
       "      <td>female</td>\n",
       "      <td>1</td>\n",
       "      <td>1.0</td>\n",
       "      <td>113803</td>\n",
       "    </tr>\n",
       "    <tr>\n",
       "      <th>4</th>\n",
       "      <td>35.0</td>\n",
       "      <td>NaN</td>\n",
       "      <td>S</td>\n",
       "      <td>8.0500</td>\n",
       "      <td>Allen, Mr. William Henry</td>\n",
       "      <td>0</td>\n",
       "      <td>5</td>\n",
       "      <td>3</td>\n",
       "      <td>male</td>\n",
       "      <td>0</td>\n",
       "      <td>0.0</td>\n",
       "      <td>373450</td>\n",
       "    </tr>\n",
       "  </tbody>\n",
       "</table>\n",
       "</div>"
      ],
      "text/plain": [
       "    Age Cabin Embarked     Fare  \\\n",
       "0  22.0   NaN        S   7.2500   \n",
       "1  38.0   C85        C  71.2833   \n",
       "2  26.0   NaN        S   7.9250   \n",
       "3  35.0  C123        S  53.1000   \n",
       "4  35.0   NaN        S   8.0500   \n",
       "\n",
       "                                                Name  Parch  PassengerId  \\\n",
       "0                            Braund, Mr. Owen Harris      0            1   \n",
       "1  Cumings, Mrs. John Bradley (Florence Briggs Th...      0            2   \n",
       "2                             Heikkinen, Miss. Laina      0            3   \n",
       "3       Futrelle, Mrs. Jacques Heath (Lily May Peel)      0            4   \n",
       "4                           Allen, Mr. William Henry      0            5   \n",
       "\n",
       "   Pclass     Sex  SibSp  Survived            Ticket  \n",
       "0       3    male      1       0.0         A/5 21171  \n",
       "1       1  female      1       1.0          PC 17599  \n",
       "2       3  female      0       1.0  STON/O2. 3101282  \n",
       "3       1  female      1       1.0            113803  \n",
       "4       3    male      0       0.0            373450  "
      ]
     },
     "execution_count": 3,
     "metadata": {},
     "output_type": "execute_result"
    }
   ],
   "source": [
    "# Import Data\n",
    "train = pd.read_csv('train.csv', na_values=[' '])\n",
    "test = pd.read_csv('test.csv', na_values=[' ']) \n",
    "\n",
    "# Combine train and test (train: 0-890, test: 891-1308)\n",
    "df = train.append(test, ignore_index=True)\n",
    "'''\n",
    "VARIABLE DESCRIPTIONS:\n",
    "survival        Survival\n",
    "                (0 = No; 1 = Yes)\n",
    "pclass          Passenger Class\n",
    "                (1 = 1st; 2 = 2nd; 3 = 3rd)\n",
    "name            Name\n",
    "sex             Sex\n",
    "age             Age\n",
    "sibsp           Number of Siblings/Spouses Aboard\n",
    "parch           Number of Parents/Children Aboard\n",
    "ticket          Ticket Number\n",
    "fare            Passenger Fare\n",
    "cabin           Cabin\n",
    "embarked        Port of Embarkation\n",
    "                (C = Cherbourg; Q = Queenstown; S = Southampton)\n",
    "'''\n",
    "df.head()"
   ]
  },
  {
   "cell_type": "code",
   "execution_count": 4,
   "metadata": {
    "collapsed": false
   },
   "outputs": [],
   "source": [
    "# Prepare for Visualization\n",
    "train[\"class\"] = train.Pclass.map({1: \"First\", 2: \"Second\", 3: \"Third\"})\n",
    "train[\"embark_town\"] = train.Embarked.map({\"C\": \"Cherbourg\", \"Q\": \"Queenstown\", \"S\": \"Southampton\"})\n",
    "train[\"alive\"] = train.Survived.map({0: \"no\", 1: \"yes\"})\n",
    "train[\"alone\"] = (train.Parch + train.SibSp).astype(bool).map({False: \"Alone\", True: \"Not Alone\"})"
   ]
  },
  {
   "cell_type": "markdown",
   "metadata": {},
   "source": [
    "#### 1.1 Summary statistics"
   ]
  },
  {
   "cell_type": "code",
   "execution_count": 5,
   "metadata": {
    "collapsed": false,
    "scrolled": false
   },
   "outputs": [
    {
     "data": {
      "text/plain": [
       "<matplotlib.text.Text at 0x23adc11a2b0>"
      ]
     },
     "execution_count": 5,
     "metadata": {},
     "output_type": "execute_result"
    },
    {
     "data": {
      "image/png": "[encoded data removed]",
      "text/plain": [
       "<matplotlib.figure.Figure at 0x23adbc75a58>"
      ]
     },
     "metadata": {},
     "output_type": "display_data"
    }
   ],
   "source": [
    "fig=plt.figure(figsize=(16,16))\n",
    "ax1 = fig.add_subplot(221)\n",
    "sns.countplot('Sex', data=train)\n",
    "ax1.set_title(\"Gender Distribution\", fontsize = 14)\n",
    "\n",
    "ax2 = fig.add_subplot(222)\n",
    "sns.countplot('class', data=train, order=[\"First\", \"Second\", \"Third\"])\n",
    "ax2.set_title(\"Class Distribution\", fontsize = 14)\n",
    "\n",
    "ax3 = fig.add_subplot(223)\n",
    "sns.countplot('embark_town', data=train)\n",
    "ax3.set_title(\"Port Distribution\", fontsize = 14)\n",
    "\n",
    "\n",
    "ax4 = fig.add_subplot(224)\n",
    "sns.countplot('alone', data=train)\n",
    "ax4.set_title(\"Alone VS Not Alone\", fontsize = 14)"
   ]
  },
  {
   "cell_type": "markdown",
   "metadata": {},
   "source": [
    "#### 1.2 Survival rate "
   ]
  },
  {
   "cell_type": "code",
   "execution_count": 6,
   "metadata": {
    "collapsed": false
   },
   "outputs": [
    {
     "data": {
      "text/plain": [
       "<matplotlib.text.Text at 0x23adc625198>"
      ]
     },
     "execution_count": 6,
     "metadata": {},
     "output_type": "execute_result"
    },
    {
     "data": {
      "image/png": "[encoded data removed]",
      "text/plain": [
       "<matplotlib.figure.Figure at 0x23adbc6d358>"
      ]
     },
     "metadata": {},
     "output_type": "display_data"
    }
   ],
   "source": [
    "fig=plt.figure(figsize=(16,16))\n",
    "ax1 = fig.add_subplot(221)\n",
    "sns.barplot(x=\"Sex\", y=\"Survived\", data=train)\n",
    "ax1.set_title(\"Survival Rate by Gender\", fontsize = 14)\n",
    "\n",
    "ax2 = fig.add_subplot(222)\n",
    "sns.barplot(x=\"class\", y=\"Survived\", data=train, order=[\"First\", \"Second\", \"Third\"])\n",
    "ax2.set_title(\"Survival Rate by Class\", fontsize = 14)\n",
    "\n",
    "ax3 = fig.add_subplot(223)\n",
    "sns.barplot(x=\"embark_town\", y=\"Survived\", data=train)\n",
    "ax3.set_title(\"Survival Rate by Port\", fontsize = 14)\n",
    "\n",
    "\n",
    "ax4 = fig.add_subplot(224)\n",
    "sns.barplot(x=\"alone\", y=\"Survived\", data=train)\n",
    "ax4.set_title(\"Survival Rate by Alone\", fontsize = 14)"
   ]
  },
  {
   "cell_type": "markdown",
   "metadata": {},
   "source": [
    "#### Why passengers from Cherbourg has the highest survival rate?"
   ]
  },
  {
   "cell_type": "code",
   "execution_count": 7,
   "metadata": {
    "collapsed": false
   },
   "outputs": [
    {
     "data": {
      "text/plain": [
       "<matplotlib.axes._subplots.AxesSubplot at 0x23adbc75748>"
      ]
     },
     "execution_count": 7,
     "metadata": {},
     "output_type": "execute_result"
    },
    {
     "data": {
      "image/png": "[encoded data removed]",
      "text/plain": [
       "<matplotlib.figure.Figure at 0x23adcc51c18>"
      ]
     },
     "metadata": {},
     "output_type": "display_data"
    }
   ],
   "source": [
    "fig=plt.figure(figsize=(16,8))\n",
    "sns.countplot(x=\"embark_town\", hue=\"class\", data=train)"
   ]
  },
  {
   "cell_type": "markdown",
   "metadata": {},
   "source": [
    "#### Why passengers with companies have a higher survival rate?"
   ]
  },
  {
   "cell_type": "code",
   "execution_count": 8,
   "metadata": {
    "collapsed": false
   },
   "outputs": [
    {
     "data": {
      "text/plain": [
       "<matplotlib.axes._subplots.AxesSubplot at 0x23adc76eeb8>"
      ]
     },
     "execution_count": 8,
     "metadata": {},
     "output_type": "execute_result"
    },
    {
     "data": {
      "image/png": "[encoded data removed]",
      "text/plain": [
       "<matplotlib.figure.Figure at 0x23adc6b7320>"
      ]
     },
     "metadata": {},
     "output_type": "display_data"
    }
   ],
   "source": [
    "fig=plt.figure(figsize=(16,8))\n",
    "ax1 = fig.add_subplot(121)\n",
    "sns.countplot(x=\"alone\", hue=\"class\", data=train)\n",
    "ax1 = fig.add_subplot(122)\n",
    "sns.countplot(x=\"alone\", hue=\"Sex\", data=train)"
   ]
  },
  {
   "cell_type": "markdown",
   "metadata": {},
   "source": [
    "#### How did class and gender affect the survival rate together ?"
   ]
  },
  {
   "cell_type": "code",
   "execution_count": 10,
   "metadata": {
    "collapsed": false
   },
   "outputs": [
    {
     "data": {
      "text/plain": [
       "<seaborn.axisgrid.FacetGrid at 0x23add5e0518>"
      ]
     },
     "execution_count": 10,
     "metadata": {},
     "output_type": "execute_result"
    },
    {
     "data": {
      "image/png": "[encoded data removed]",
      "text/plain": [
       "<matplotlib.figure.Figure at 0x23add5e0898>"
      ]
     },
     "metadata": {},
     "output_type": "display_data"
    }
   ],
   "source": [
    "sns.factorplot(\"class\", \"Survived\", data=train, hue=\"Sex\", size=6, aspect=1.5, \n",
    "               order=[\"First\", \"Second\", \"Third\"]).set(ylim=(0, 1))"
   ]
  },
  {
   "cell_type": "markdown",
   "metadata": {},
   "source": [
    "#### How did age affect survival rate?"
   ]
  },
  {
   "cell_type": "code",
   "execution_count": 11,
   "metadata": {
    "collapsed": false
   },
   "outputs": [
    {
     "data": {
      "image/png": "[encoded data removed]",
      "text/plain": [
       "<matplotlib.figure.Figure at 0x23add7d2e10>"
      ]
     },
     "metadata": {},
     "output_type": "display_data"
    }
   ],
   "source": [
    "# Plot age and survival with observations grouped into discrete bin\n",
    "sns.lmplot(\"Age\", \"Survived\", train, size=6, aspect=1.5, logistic=True, x_bins=4, truncate=True);"
   ]
  },
  {
   "cell_type": "markdown",
   "metadata": {},
   "source": [
    "#### How did age interact with gender?"
   ]
  },
  {
   "cell_type": "code",
   "execution_count": 14,
   "metadata": {
    "collapsed": false
   },
   "outputs": [
    {
     "data": {
      "image/png": "[encoded data removed]",
      "text/plain": [
       "<matplotlib.figure.Figure at 0x23adde61908>"
      ]
     },
     "metadata": {},
     "output_type": "display_data"
    }
   ],
   "source": [
    "age_bins = age_bins = [20, 40, 60, 80]\n",
    "sns.lmplot(\"Age\", \"Survived\", train, hue=\"Sex\", size=6, aspect=1.5, \n",
    "           x_bins=age_bins, logistic=True).set(xlim=(0, 100));"
   ]
  },
  {
   "cell_type": "markdown",
   "metadata": {},
   "source": [
    "### 2. Data Preprocessing"
   ]
  },
  {
   "cell_type": "markdown",
   "metadata": {},
   "source": [
    "#### 2.1 Handle Missing Values\n",
    "    - 80% values in Cabin are missing. In this case, I can re-code them as \"1: present\" and \"0: missing\".\n",
    "    - Embarked has 2 missing and Fare has 1. Let's fill in them with mode and median.\n",
    "    - Age has 263 missing values. In this data, age is very important variable so let's not mess with it first."
   ]
  },
  {
   "cell_type": "code",
   "execution_count": 15,
   "metadata": {
    "collapsed": false
   },
   "outputs": [
    {
     "data": {
      "text/plain": [
       "Age             263\n",
       "Cabin          1014\n",
       "Embarked          2\n",
       "Fare              1\n",
       "Name              0\n",
       "Parch             0\n",
       "PassengerId       0\n",
       "Pclass            0\n",
       "Sex               0\n",
       "SibSp             0\n",
       "Survived        418\n",
       "Ticket            0\n",
       "dtype: int64"
      ]
     },
     "execution_count": 15,
     "metadata": {},
     "output_type": "execute_result"
    }
   ],
   "source": [
    "df.isnull().sum()"
   ]
  },
  {
   "cell_type": "code",
   "execution_count": 16,
   "metadata": {
    "collapsed": true
   },
   "outputs": [],
   "source": [
    "# Embarked: fill with the mode 'S'\n",
    "# Fair: fill with median 14.4542\n",
    "# Cabin: 1: present,  0: missing\n",
    "\n",
    "df.Embarked = df.Embarked.fillna(\"S\")\n",
    "df.Fare = df.Fare.fillna(df.Fare.median())\n",
    "df.Cabin = df.Cabin.map(lambda x: 1 if type(x) == str else 0)"
   ]
  },
  {
   "cell_type": "markdown",
   "metadata": {},
   "source": [
    "#### 2.2 Dummy Encoding\n",
    "    - Sex, Passenger Class and Port of Embarkation are categorical variables\n",
    "    - One-hot dummy encoding seems to be a good choice here.\n",
    "    - However, I will create several more categorical variables in the Feature Engineering part. Let's do it later."
   ]
  },
  {
   "cell_type": "markdown",
   "metadata": {},
   "source": [
    "### 3. Feature Engineering"
   ]
  },
  {
   "cell_type": "markdown",
   "metadata": {},
   "source": [
    "#### 3.1 Titles"
   ]
  },
  {
   "cell_type": "code",
   "execution_count": 17,
   "metadata": {
    "collapsed": false
   },
   "outputs": [
    {
     "data": {
      "text/plain": [
       "0                              Braund, Mr. Owen Harris\n",
       "1    Cumings, Mrs. John Bradley (Florence Briggs Th...\n",
       "2                               Heikkinen, Miss. Laina\n",
       "3         Futrelle, Mrs. Jacques Heath (Lily May Peel)\n",
       "4                             Allen, Mr. William Henry\n",
       "5                                     Moran, Mr. James\n",
       "6                              McCarthy, Mr. Timothy J\n",
       "7                       Palsson, Master. Gosta Leonard\n",
       "8    Johnson, Mrs. Oscar W (Elisabeth Vilhelmina Berg)\n",
       "9                  Nasser, Mrs. Nicholas (Adele Achem)\n",
       "Name: Name, dtype: object"
      ]
     },
     "execution_count": 17,
     "metadata": {},
     "output_type": "execute_result"
    }
   ],
   "source": [
    "# Take a look at passenger names\n",
    "train.Name.head(10)"
   ]
  },
  {
   "cell_type": "code",
   "execution_count": 18,
   "metadata": {
    "collapsed": false
   },
   "outputs": [
    {
     "data": {
      "text/plain": [
       "Mr.          757\n",
       "Miss.        260\n",
       "Mrs.         197\n",
       "Master.       61\n",
       "Dr.            8\n",
       "Rev.           8\n",
       "Col.           4\n",
       "Major.         2\n",
       "Ms.            2\n",
       "Mlle.          2\n",
       "Jonkheer.      1\n",
       "Countess.      1\n",
       "Capt.          1\n",
       "Don.           1\n",
       "Lady.          1\n",
       "Mme.           1\n",
       "Sir.           1\n",
       "Dona.          1\n",
       "Name: Title, dtype: int64"
      ]
     },
     "execution_count": 18,
     "metadata": {},
     "output_type": "execute_result"
    }
   ],
   "source": [
    "# Process title using regular expression\n",
    "df['Title'] = df.Name.str.extract('(\\w+\\.)', expand=False)\n",
    "df['Title'].value_counts()"
   ]
  },
  {
   "cell_type": "code",
   "execution_count": 19,
   "metadata": {
    "collapsed": true
   },
   "outputs": [],
   "source": [
    "# Replacing all titles with mr, mrs, miss, master\n",
    "def replace_titles(x):\n",
    "    title=x['Title']\n",
    "    if title in ['Don.', 'Major.', 'Capt.', 'Jonkheer.', 'Rev.', 'Col.', 'Sir.']:\n",
    "        return 'Mr.'\n",
    "    elif title in ['Countess.', 'Mme.', 'Lady.']:\n",
    "        return 'Mrs.'\n",
    "    elif title in ['Mlle.', 'Ms.', 'Dona.']:\n",
    "        return 'Miss.'\n",
    "    elif title =='Dr.':\n",
    "        if x['Sex']=='Male':\n",
    "            return 'Mr.'\n",
    "        else:\n",
    "            return 'Mrs.'\n",
    "    else:\n",
    "        return title\n",
    "    \n",
    "df['Title']=df.apply(replace_titles, axis=1)"
   ]
  },
  {
   "cell_type": "code",
   "execution_count": 20,
   "metadata": {
    "collapsed": false
   },
   "outputs": [
    {
     "data": {
      "text/plain": [
       "Mr.        775\n",
       "Miss.      265\n",
       "Mrs.       208\n",
       "Master.     61\n",
       "Name: Title, dtype: int64"
      ]
     },
     "execution_count": 20,
     "metadata": {},
     "output_type": "execute_result"
    }
   ],
   "source": [
    "df['Title'].value_counts()#.plot(kind='bar')"
   ]
  },
  {
   "cell_type": "code",
   "execution_count": 21,
   "metadata": {
    "collapsed": false
   },
   "outputs": [
    {
     "data": {
      "image/png": "[encoded data removed]",
      "text/plain": [
       "<matplotlib.figure.Figure at 0x23ade0349b0>"
      ]
     },
     "metadata": {},
     "output_type": "display_data"
    }
   ],
   "source": [
    "plt.figure(figsize=(12,6))\n",
    "sns.stripplot(x=\"Title\", y=\"Age\", jitter=True, data=df);"
   ]
  },
  {
   "cell_type": "code",
   "execution_count": 22,
   "metadata": {
    "collapsed": true
   },
   "outputs": [],
   "source": [
    "# Now I can fill in missing ages based on titles\n",
    "df.Age= df.groupby('Title').transform(lambda group: group.fillna(group.median()))"
   ]
  },
  {
   "cell_type": "markdown",
   "metadata": {},
   "source": [
    "#### 3.2 Family size"
   ]
  },
  {
   "cell_type": "code",
   "execution_count": 23,
   "metadata": {
    "collapsed": true
   },
   "outputs": [],
   "source": [
    "# Create a new fature \"Family Size\"\n",
    "df['Family_Size'] = df.SibSp + df.Parch"
   ]
  },
  {
   "cell_type": "code",
   "execution_count": 24,
   "metadata": {
    "collapsed": false
   },
   "outputs": [
    {
     "data": {
      "text/plain": [
       "0     790\n",
       "1     235\n",
       "2     159\n",
       "3      43\n",
       "5      25\n",
       "4      22\n",
       "6      16\n",
       "10     11\n",
       "7       8\n",
       "Name: Family_Size, dtype: int64"
      ]
     },
     "execution_count": 24,
     "metadata": {},
     "output_type": "execute_result"
    }
   ],
   "source": [
    "df.Family_Size.value_counts()"
   ]
  },
  {
   "cell_type": "code",
   "execution_count": 25,
   "metadata": {
    "collapsed": false
   },
   "outputs": [
    {
     "data": {
      "text/plain": [
       "<matplotlib.axes._subplots.AxesSubplot at 0x23adddf1748>"
      ]
     },
     "execution_count": 25,
     "metadata": {},
     "output_type": "execute_result"
    },
    {
     "data": {
      "image/png": "[encoded data removed]",
      "text/plain": [
       "<matplotlib.figure.Figure at 0x23ade073e80>"
      ]
     },
     "metadata": {},
     "output_type": "display_data"
    }
   ],
   "source": [
    "plt.figure(figsize=(12,6))\n",
    "sns.barplot(x=\"Family_Size\", y=\"Survived\", data=df)"
   ]
  },
  {
   "cell_type": "markdown",
   "metadata": {},
   "source": [
    "#### 3.3  Prepare for modeling"
   ]
  },
  {
   "cell_type": "code",
   "execution_count": 26,
   "metadata": {
    "collapsed": false
   },
   "outputs": [
    {
     "data": {
      "text/html": [
       "<div>\n",
       "<table border=\"1\" class=\"dataframe\">\n",
       "  <thead>\n",
       "    <tr style=\"text-align: right;\">\n",
       "      <th></th>\n",
       "      <th>Age</th>\n",
       "      <th>Cabin</th>\n",
       "      <th>Embarked</th>\n",
       "      <th>Fare</th>\n",
       "      <th>Name</th>\n",
       "      <th>Parch</th>\n",
       "      <th>PassengerId</th>\n",
       "      <th>Pclass</th>\n",
       "      <th>Sex</th>\n",
       "      <th>SibSp</th>\n",
       "      <th>Survived</th>\n",
       "      <th>Ticket</th>\n",
       "      <th>Title</th>\n",
       "      <th>Family_Size</th>\n",
       "    </tr>\n",
       "  </thead>\n",
       "  <tbody>\n",
       "    <tr>\n",
       "      <th>0</th>\n",
       "      <td>22.0</td>\n",
       "      <td>0</td>\n",
       "      <td>S</td>\n",
       "      <td>7.2500</td>\n",
       "      <td>Braund, Mr. Owen Harris</td>\n",
       "      <td>0</td>\n",
       "      <td>1</td>\n",
       "      <td>3</td>\n",
       "      <td>male</td>\n",
       "      <td>1</td>\n",
       "      <td>0.0</td>\n",
       "      <td>A/5 21171</td>\n",
       "      <td>Mr.</td>\n",
       "      <td>1</td>\n",
       "    </tr>\n",
       "    <tr>\n",
       "      <th>1</th>\n",
       "      <td>38.0</td>\n",
       "      <td>1</td>\n",
       "      <td>C</td>\n",
       "      <td>71.2833</td>\n",
       "      <td>Cumings, Mrs. John Bradley (Florence Briggs Th...</td>\n",
       "      <td>0</td>\n",
       "      <td>2</td>\n",
       "      <td>1</td>\n",
       "      <td>female</td>\n",
       "      <td>1</td>\n",
       "      <td>1.0</td>\n",
       "      <td>PC 17599</td>\n",
       "      <td>Mrs.</td>\n",
       "      <td>1</td>\n",
       "    </tr>\n",
       "    <tr>\n",
       "      <th>2</th>\n",
       "      <td>26.0</td>\n",
       "      <td>0</td>\n",
       "      <td>S</td>\n",
       "      <td>7.9250</td>\n",
       "      <td>Heikkinen, Miss. Laina</td>\n",
       "      <td>0</td>\n",
       "      <td>3</td>\n",
       "      <td>3</td>\n",
       "      <td>female</td>\n",
       "      <td>0</td>\n",
       "      <td>1.0</td>\n",
       "      <td>STON/O2. 3101282</td>\n",
       "      <td>Miss.</td>\n",
       "      <td>0</td>\n",
       "    </tr>\n",
       "    <tr>\n",
       "      <th>3</th>\n",
       "      <td>35.0</td>\n",
       "      <td>1</td>\n",
       "      <td>S</td>\n",
       "      <td>53.1000</td>\n",
       "      <td>Futrelle, Mrs. Jacques Heath (Lily May Peel)</td>\n",
       "      <td>0</td>\n",
       "      <td>4</td>\n",
       "      <td>1</td>\n",
       "      <td>female</td>\n",
       "      <td>1</td>\n",
       "      <td>1.0</td>\n",
       "      <td>113803</td>\n",
       "      <td>Mrs.</td>\n",
       "      <td>1</td>\n",
       "    </tr>\n",
       "    <tr>\n",
       "      <th>4</th>\n",
       "      <td>35.0</td>\n",
       "      <td>0</td>\n",
       "      <td>S</td>\n",
       "      <td>8.0500</td>\n",
       "      <td>Allen, Mr. William Henry</td>\n",
       "      <td>0</td>\n",
       "      <td>5</td>\n",
       "      <td>3</td>\n",
       "      <td>male</td>\n",
       "      <td>0</td>\n",
       "      <td>0.0</td>\n",
       "      <td>373450</td>\n",
       "      <td>Mr.</td>\n",
       "      <td>0</td>\n",
       "    </tr>\n",
       "  </tbody>\n",
       "</table>\n",
       "</div>"
      ],
      "text/plain": [
       "    Age  Cabin Embarked     Fare  \\\n",
       "0  22.0      0        S   7.2500   \n",
       "1  38.0      1        C  71.2833   \n",
       "2  26.0      0        S   7.9250   \n",
       "3  35.0      1        S  53.1000   \n",
       "4  35.0      0        S   8.0500   \n",
       "\n",
       "                                                Name  Parch  PassengerId  \\\n",
       "0                            Braund, Mr. Owen Harris      0            1   \n",
       "1  Cumings, Mrs. John Bradley (Florence Briggs Th...      0            2   \n",
       "2                             Heikkinen, Miss. Laina      0            3   \n",
       "3       Futrelle, Mrs. Jacques Heath (Lily May Peel)      0            4   \n",
       "4                           Allen, Mr. William Henry      0            5   \n",
       "\n",
       "   Pclass     Sex  SibSp  Survived            Ticket  Title  Family_Size  \n",
       "0       3    male      1       0.0         A/5 21171    Mr.            1  \n",
       "1       1  female      1       1.0          PC 17599   Mrs.            1  \n",
       "2       3  female      0       1.0  STON/O2. 3101282  Miss.            0  \n",
       "3       1  female      1       1.0            113803   Mrs.            1  \n",
       "4       3    male      0       0.0            373450    Mr.            0  "
      ]
     },
     "execution_count": 26,
     "metadata": {},
     "output_type": "execute_result"
    }
   ],
   "source": [
    "df.head()"
   ]
  },
  {
   "cell_type": "code",
   "execution_count": 27,
   "metadata": {
    "collapsed": false
   },
   "outputs": [
    {
     "data": {
      "text/html": [
       "<div>\n",
       "<table border=\"1\" class=\"dataframe\">\n",
       "  <thead>\n",
       "    <tr style=\"text-align: right;\">\n",
       "      <th></th>\n",
       "      <th>Embarked_C</th>\n",
       "      <th>Embarked_Q</th>\n",
       "      <th>Embarked_S</th>\n",
       "      <th>Title_Master.</th>\n",
       "      <th>Title_Miss.</th>\n",
       "      <th>Title_Mr.</th>\n",
       "      <th>Title_Mrs.</th>\n",
       "      <th>Pclass_1</th>\n",
       "      <th>Pclass_2</th>\n",
       "      <th>Pclass_3</th>\n",
       "      <th>...</th>\n",
       "      <th>Family_Size_6</th>\n",
       "      <th>Family_Size_7</th>\n",
       "      <th>Family_Size_10</th>\n",
       "      <th>Sex_female</th>\n",
       "      <th>Sex_male</th>\n",
       "      <th>Age</th>\n",
       "      <th>Fare</th>\n",
       "      <th>Cabin</th>\n",
       "      <th>PassengerId</th>\n",
       "      <th>Survived</th>\n",
       "    </tr>\n",
       "  </thead>\n",
       "  <tbody>\n",
       "    <tr>\n",
       "      <th>0</th>\n",
       "      <td>0.0</td>\n",
       "      <td>0.0</td>\n",
       "      <td>1.0</td>\n",
       "      <td>0.0</td>\n",
       "      <td>0.0</td>\n",
       "      <td>1.0</td>\n",
       "      <td>0.0</td>\n",
       "      <td>0.0</td>\n",
       "      <td>0.0</td>\n",
       "      <td>1.0</td>\n",
       "      <td>...</td>\n",
       "      <td>0.0</td>\n",
       "      <td>0.0</td>\n",
       "      <td>0.0</td>\n",
       "      <td>0.0</td>\n",
       "      <td>1.0</td>\n",
       "      <td>0.273456</td>\n",
       "      <td>0.014151</td>\n",
       "      <td>0</td>\n",
       "      <td>1</td>\n",
       "      <td>0.0</td>\n",
       "    </tr>\n",
       "    <tr>\n",
       "      <th>1</th>\n",
       "      <td>1.0</td>\n",
       "      <td>0.0</td>\n",
       "      <td>0.0</td>\n",
       "      <td>0.0</td>\n",
       "      <td>0.0</td>\n",
       "      <td>0.0</td>\n",
       "      <td>1.0</td>\n",
       "      <td>1.0</td>\n",
       "      <td>0.0</td>\n",
       "      <td>0.0</td>\n",
       "      <td>...</td>\n",
       "      <td>0.0</td>\n",
       "      <td>0.0</td>\n",
       "      <td>0.0</td>\n",
       "      <td>1.0</td>\n",
       "      <td>0.0</td>\n",
       "      <td>0.473882</td>\n",
       "      <td>0.139136</td>\n",
       "      <td>1</td>\n",
       "      <td>2</td>\n",
       "      <td>1.0</td>\n",
       "    </tr>\n",
       "    <tr>\n",
       "      <th>2</th>\n",
       "      <td>0.0</td>\n",
       "      <td>0.0</td>\n",
       "      <td>1.0</td>\n",
       "      <td>0.0</td>\n",
       "      <td>1.0</td>\n",
       "      <td>0.0</td>\n",
       "      <td>0.0</td>\n",
       "      <td>0.0</td>\n",
       "      <td>0.0</td>\n",
       "      <td>1.0</td>\n",
       "      <td>...</td>\n",
       "      <td>0.0</td>\n",
       "      <td>0.0</td>\n",
       "      <td>0.0</td>\n",
       "      <td>1.0</td>\n",
       "      <td>0.0</td>\n",
       "      <td>0.323563</td>\n",
       "      <td>0.015469</td>\n",
       "      <td>0</td>\n",
       "      <td>3</td>\n",
       "      <td>1.0</td>\n",
       "    </tr>\n",
       "    <tr>\n",
       "      <th>3</th>\n",
       "      <td>0.0</td>\n",
       "      <td>0.0</td>\n",
       "      <td>1.0</td>\n",
       "      <td>0.0</td>\n",
       "      <td>0.0</td>\n",
       "      <td>0.0</td>\n",
       "      <td>1.0</td>\n",
       "      <td>1.0</td>\n",
       "      <td>0.0</td>\n",
       "      <td>0.0</td>\n",
       "      <td>...</td>\n",
       "      <td>0.0</td>\n",
       "      <td>0.0</td>\n",
       "      <td>0.0</td>\n",
       "      <td>1.0</td>\n",
       "      <td>0.0</td>\n",
       "      <td>0.436302</td>\n",
       "      <td>0.103644</td>\n",
       "      <td>1</td>\n",
       "      <td>4</td>\n",
       "      <td>1.0</td>\n",
       "    </tr>\n",
       "    <tr>\n",
       "      <th>4</th>\n",
       "      <td>0.0</td>\n",
       "      <td>0.0</td>\n",
       "      <td>1.0</td>\n",
       "      <td>0.0</td>\n",
       "      <td>0.0</td>\n",
       "      <td>1.0</td>\n",
       "      <td>0.0</td>\n",
       "      <td>0.0</td>\n",
       "      <td>0.0</td>\n",
       "      <td>1.0</td>\n",
       "      <td>...</td>\n",
       "      <td>0.0</td>\n",
       "      <td>0.0</td>\n",
       "      <td>0.0</td>\n",
       "      <td>0.0</td>\n",
       "      <td>1.0</td>\n",
       "      <td>0.436302</td>\n",
       "      <td>0.015713</td>\n",
       "      <td>0</td>\n",
       "      <td>5</td>\n",
       "      <td>0.0</td>\n",
       "    </tr>\n",
       "  </tbody>\n",
       "</table>\n",
       "<p>5 rows × 26 columns</p>\n",
       "</div>"
      ],
      "text/plain": [
       "   Embarked_C  Embarked_Q  Embarked_S  Title_Master.  Title_Miss.  Title_Mr.  \\\n",
       "0         0.0         0.0         1.0            0.0          0.0        1.0   \n",
       "1         1.0         0.0         0.0            0.0          0.0        0.0   \n",
       "2         0.0         0.0         1.0            0.0          1.0        0.0   \n",
       "3         0.0         0.0         1.0            0.0          0.0        0.0   \n",
       "4         0.0         0.0         1.0            0.0          0.0        1.0   \n",
       "\n",
       "   Title_Mrs.  Pclass_1  Pclass_2  Pclass_3    ...     Family_Size_6  \\\n",
       "0         0.0       0.0       0.0       1.0    ...               0.0   \n",
       "1         1.0       1.0       0.0       0.0    ...               0.0   \n",
       "2         0.0       0.0       0.0       1.0    ...               0.0   \n",
       "3         1.0       1.0       0.0       0.0    ...               0.0   \n",
       "4         0.0       0.0       0.0       1.0    ...               0.0   \n",
       "\n",
       "   Family_Size_7  Family_Size_10  Sex_female  Sex_male       Age      Fare  \\\n",
       "0            0.0             0.0         0.0       1.0  0.273456  0.014151   \n",
       "1            0.0             0.0         1.0       0.0  0.473882  0.139136   \n",
       "2            0.0             0.0         1.0       0.0  0.323563  0.015469   \n",
       "3            0.0             0.0         1.0       0.0  0.436302  0.103644   \n",
       "4            0.0             0.0         0.0       1.0  0.436302  0.015713   \n",
       "\n",
       "   Cabin  PassengerId  Survived  \n",
       "0      0            1       0.0  \n",
       "1      1            2       1.0  \n",
       "2      0            3       1.0  \n",
       "3      1            4       1.0  \n",
       "4      0            5       0.0  \n",
       "\n",
       "[5 rows x 26 columns]"
      ]
     },
     "execution_count": 27,
     "metadata": {},
     "output_type": "execute_result"
    }
   ],
   "source": [
    "# One-hot dummy encoding for categorical variables\n",
    "# Min-Max Scalar for continuous variables\n",
    "\n",
    "df.Pclass = df.Pclass.astype('category')\n",
    "df.Family_Size = df.Family_Size.astype('category')\n",
    "\n",
    "conts = ['Age', 'Fare']\n",
    "remain = ['Cabin', 'PassengerId', 'Survived']\n",
    "cats = ['Embarked', 'Title', 'Pclass', 'Family_Size', 'Sex']\n",
    "\n",
    "dummies = pd.get_dummies(df[cats])\n",
    "normalized = MinMaxScaler().fit(df[conts]).transform(df[conts])\n",
    "normalized = pd.DataFrame(normalized,columns=conts)\n",
    "\n",
    "df_new = pd.concat((dummies, normalized, df[remain]),axis=1)\n",
    "df_new.head()"
   ]
  },
  {
   "cell_type": "code",
   "execution_count": 28,
   "metadata": {
    "collapsed": false
   },
   "outputs": [],
   "source": [
    "# Split train and test back\n",
    "df_train = df_new.iloc[0:891]\n",
    "df_test = df_new.iloc[891:]\n",
    "\n",
    "# Seperate 'Survival'\n",
    "y = df_train.Survived.values\n",
    "\n",
    "# Drop Passenger Id\n",
    "df_train.drop(['PassengerId', 'Survived'], inplace = True, axis=1)\n",
    "df_test.drop(['PassengerId', 'Survived'], inplace = True, axis=1)\n",
    "x = df_train.values"
   ]
  },
  {
   "cell_type": "code",
   "execution_count": 29,
   "metadata": {
    "collapsed": true
   },
   "outputs": [],
   "source": [
    "del train, test, df, dummies, normalized"
   ]
  },
  {
   "cell_type": "markdown",
   "metadata": {},
   "source": [
    "### 4. Data Modeling"
   ]
  },
  {
   "cell_type": "code",
   "execution_count": 30,
   "metadata": {
    "collapsed": true
   },
   "outputs": [],
   "source": [
    "# 80% - 20% train and test split\n",
    "x_train, x_test, y_train, y_test = train_test_split(x, y, test_size=0.2, random_state=55)"
   ]
  },
  {
   "cell_type": "markdown",
   "metadata": {},
   "source": [
    "#### 4.1 k Nearest Neighbor"
   ]
  },
  {
   "cell_type": "code",
   "execution_count": 31,
   "metadata": {
    "collapsed": false
   },
   "outputs": [
    {
     "name": "stdout",
     "output_type": "stream",
     "text": [
      "Optimal KNN parameters are:  {'clf__n_neighbors': 14}\n",
      "Average KNN Accuracy in cross validation: 0.825 +/- 0.039\n",
      "KNN Accuracy in hold-out test Set: 0.788\n"
     ]
    }
   ],
   "source": [
    "# KNN pipeline\n",
    "pipe_knn = Pipeline([('clf', KNeighborsClassifier())])\n",
    "\n",
    "# Specify values for number of neighbors to tune\n",
    "param_grid = [{'clf__n_neighbors': np.arange(1, 15, 1)}]\n",
    "\n",
    "# Perform grid search cross validation on the parameters listed in param_grid\n",
    "gs = GridSearchCV(estimator=pipe_knn, param_grid=param_grid, scoring='accuracy', cv=10)\n",
    "\n",
    "# Fit the cross validated KNN to the training dataset and view the parameters of the best model\n",
    "gs.fit(x_train, y_train)\n",
    "\n",
    "# Get the best parameters and model scores\n",
    "best_KNN_params = gs.best_params_\n",
    "print(\"Optimal KNN parameters are: \", best_KNN_params)\n",
    "knn_cv_scores = cross_val_score(gs, x_train, y_train, scoring='accuracy', cv=10)\n",
    "print(\"Average KNN Accuracy in cross validation: %.3f +/- %.3f\" % (np.mean(knn_cv_scores), np.std(knn_cv_scores)))\n",
    "knn_test_scores = accuracy_score(gs.predict(x_test), y_test)\n",
    "print(\"KNN Accuracy in hold-out test Set: %0.3f\" % (knn_test_scores))"
   ]
  },
  {
   "cell_type": "code",
   "execution_count": 32,
   "metadata": {
    "collapsed": true
   },
   "outputs": [],
   "source": [
    "# Build KNN with optimized parameters\n",
    "classifier1 = KNeighborsClassifier(n_neighbors=gs.best_params_['clf__n_neighbors'])"
   ]
  },
  {
   "cell_type": "markdown",
   "metadata": {},
   "source": [
    "#### 4.2 Decision Tree"
   ]
  },
  {
   "cell_type": "code",
   "execution_count": 33,
   "metadata": {
    "collapsed": false
   },
   "outputs": [
    {
     "name": "stdout",
     "output_type": "stream",
     "text": [
      "Optimal decision tree parameters are:  {'clf__max_features': 17, 'clf__criterion': 'gini', 'clf__min_samples_split': 8, 'clf__max_depth': 5}\n",
      "Average Decision tree accuracy in cross validation: 0.823 +/- 0.064\n",
      "Decision tree accuracy in hold-out test Set: 0.816\n"
     ]
    }
   ],
   "source": [
    "# Decision Tree Pipline\n",
    "pip_dt = Pipeline([('clf', DecisionTreeClassifier())])\n",
    "\n",
    "# Specify values for number of neighbors to tune\n",
    "\n",
    "param_grid = [{'clf__criterion': ['entropy','gini'], 'clf__max_depth': np.arange(1, 20, 2),\n",
    "               'clf__max_features': np.arange(1, 23, 2),\n",
    "               'clf__min_samples_split': np.arange(2, 10, 2)}]\n",
    "\n",
    "# Perform grid search cross validation on the parameters listed in param_grid\n",
    "gs = GridSearchCV(estimator=pip_dt, param_grid=param_grid, scoring='accuracy', cv=10)\n",
    "\n",
    "# Fit the cross validated KNN to the training dataset and view the parameters of the best model\n",
    "gs.fit(x_train, y_train)\n",
    "\n",
    "# Get the best parameters and model scores\n",
    "best_DT_params = gs.best_params_\n",
    "print(\"Optimal decision tree parameters are: \", best_DT_params)\n",
    "dt_cv_scores = cross_val_score(gs, x_train, y_train, scoring='accuracy', cv=10)\n",
    "print(\"Average Decision tree accuracy in cross validation: %.3f +/- %.3f\" % (np.mean(dt_cv_scores), np.std(dt_cv_scores)))\n",
    "dt_test_scores = accuracy_score(gs.predict(x_test), y_test)\n",
    "print(\"Decision tree accuracy in hold-out test Set: %0.3f\" % (dt_test_scores))"
   ]
  },
  {
   "cell_type": "code",
   "execution_count": 34,
   "metadata": {
    "collapsed": true
   },
   "outputs": [],
   "source": [
    "# Build DT with optimized parameters\n",
    "classifier2 = DecisionTreeClassifier(criterion=gs.best_params_['clf__criterion'], \n",
    "                                     max_depth=gs.best_params_['clf__max_depth'],\n",
    "                                     max_features= gs.best_params_['clf__max_features'], \n",
    "                                     min_samples_split= gs.best_params_['clf__min_samples_split'])"
   ]
  },
  {
   "cell_type": "markdown",
   "metadata": {},
   "source": [
    "#### 4.3 Logistic Regression"
   ]
  },
  {
   "cell_type": "code",
   "execution_count": 42,
   "metadata": {
    "collapsed": false
   },
   "outputs": [
    {
     "name": "stdout",
     "output_type": "stream",
     "text": [
      "Optimal logistic regression parameters are:  {'clf__C': 1.0, 'clf__penalty': 'l2'}\n",
      "Average logistic regression accuracy in cross validation: 0.832 +/- 0.052\n",
      "Logistic regression accuracy in hold-out test Set: 0.827\n"
     ]
    }
   ],
   "source": [
    "# LG pipeline\n",
    "pipe_lg = Pipeline([('clf', LogisticRegression())])\n",
    "\n",
    "# Specify values for the parameter c, which determines how large the margin is for the SVM\n",
    "param_range = [0.0001, 0.001, 0.01, 0.1, 1.0, 10.0, 100.0]\n",
    "\n",
    "# List the hyperparameters to tune for the SVM\n",
    "param_grid = [{'clf__penalty': ['l1', 'l2'], 'clf__C': param_range}]\n",
    "\n",
    "# Perform grid search cross validation on the parameters listed in param_grid\n",
    "gs = GridSearchCV(estimator=pipe_lg, param_grid=param_grid, scoring='accuracy', cv=10)\n",
    "\n",
    "# Fit the cross validated SVM to the training dataset and view the parameters of the best model\n",
    "gs.fit(x_train, y_train)\n",
    "\n",
    "best_LG_params = gs.best_params_\n",
    "print(\"Optimal logistic regression parameters are: \", best_LG_params)\n",
    "lg_cv_scores = cross_val_score(gs, x_train, y_train, scoring='accuracy', cv=10)\n",
    "print(\"Average logistic regression accuracy in cross validation: %.3f +/- %.3f\" % (np.mean(lg_cv_scores), np.std(lg_cv_scores)))\n",
    "lg_test_scores = accuracy_score(gs.predict(x_test), y_test)\n",
    "print(\"Logistic regression accuracy in hold-out test Set: %0.3f\" % (lg_test_scores))"
   ]
  },
  {
   "cell_type": "code",
   "execution_count": 43,
   "metadata": {
    "collapsed": true
   },
   "outputs": [],
   "source": [
    "#Build LG with optimized parameters \n",
    "classifier3 = LogisticRegression(C=gs.best_params_['clf__C'], penalty=gs.best_params_['clf__penalty'])"
   ]
  },
  {
   "cell_type": "markdown",
   "metadata": {},
   "source": [
    "#### 4.4 Random Forest"
   ]
  },
  {
   "cell_type": "code",
   "execution_count": 37,
   "metadata": {
    "collapsed": false
   },
   "outputs": [
    {
     "name": "stdout",
     "output_type": "stream",
     "text": [
      "Optimal random forest parameters are:  {'clf__n_estimators': 50, 'clf__max_features': 20, 'clf__criterion': 'entropy', 'clf__max_depth': 9}\n",
      "Average random forest accuracy in cross validation: 0.829 +/- 0.051\n",
      "Random forest accuracy in hold-out test Set: 0.810\n"
     ]
    }
   ],
   "source": [
    "# RF pipeline\n",
    "pipe_rf = Pipeline([('clf', RandomForestClassifier())])\n",
    "\n",
    "# Specify values for number of neighbors to tune\n",
    "\n",
    "param_grid = [{'clf__criterion': ['entropy','gini'], 'clf__max_depth': [3, 5, 7, 9, 11],\n",
    "               'clf__max_features': [5, 10, 15, 20],\n",
    "               'clf__n_estimators': [50, 100, 150, 200]}]\n",
    "\n",
    "# Perform grid search cross validation on the parameters listed in param_grid\n",
    "gs = GridSearchCV(estimator=pipe_rf, param_grid=param_grid, scoring='accuracy', cv=10, n_jobs=4)\n",
    "\n",
    "# Fit the cross validated KNN to the training dataset and view the parameters of the best model\n",
    "gs.fit(x_train, y_train)\n",
    "\n",
    "# Get the best parameters and model scores\n",
    "best_RF_params = gs.best_params_\n",
    "print(\"Optimal random forest parameters are: \", best_RF_params)\n",
    "rf_cv_scores = cross_val_score(gs, x_train, y_train, scoring='accuracy', cv=10)\n",
    "print(\"Average random forest accuracy in cross validation: %.3f +/- %.3f\" % (np.mean(rf_cv_scores), np.std(rf_cv_scores)))\n",
    "rf_test_scores = accuracy_score(gs.predict(x_test), y_test)\n",
    "print(\"Random forest accuracy in hold-out test Set: %0.3f\" % (rf_test_scores))"
   ]
  },
  {
   "cell_type": "code",
   "execution_count": 38,
   "metadata": {
    "collapsed": true
   },
   "outputs": [],
   "source": [
    "# Build RF with optimized parameters\n",
    "classifier4 = RandomForestClassifier(n_estimators=gs.best_params_['clf__n_estimators'],\n",
    "                                     criterion=gs.best_params_['clf__criterion'], \n",
    "                                     max_depth=gs.best_params_['clf__max_depth'],\n",
    "                                     max_features= gs.best_params_['clf__max_features'])"
   ]
  },
  {
   "cell_type": "markdown",
   "metadata": {},
   "source": [
    "#### 4.5 Gradient Boosting"
   ]
  },
  {
   "cell_type": "code",
   "execution_count": 39,
   "metadata": {
    "collapsed": false
   },
   "outputs": [
    {
     "name": "stdout",
     "output_type": "stream",
     "text": [
      "Optimal gradient boosting parameters are:  {'clf__n_estimators': 200, 'clf__learning_rate': 0.1, 'clf__loss': 'exponential', 'clf__max_depth': 3}\n",
      "Average gradient boosting accuracy in cross validation: 0.819 +/- 0.045\n",
      "Gradient boosting accuracy in hold-out test Set: 0.832\n"
     ]
    }
   ],
   "source": [
    "# GB pipeline\n",
    "pipe_gb = Pipeline([('clf', GradientBoostingClassifier())])\n",
    "\n",
    "# Specify values for number of neighbors to tune\n",
    "\n",
    "param_range = [0.0001, 0.001, 0.01, 0.1, 0.5, 1]\n",
    "param_grid = [{'clf__loss': ['deviance','exponential'], 'clf__learning_rate': param_range,\n",
    "               'clf__max_depth': [3, 5, 7, 9, 11], \n",
    "               'clf__n_estimators': [100, 150, 200, 250]}]\n",
    "\n",
    "# Perform grid search cross validation on the parameters listed in param_grid\n",
    "gs = GridSearchCV(estimator=pipe_gb, param_grid=param_grid, scoring='accuracy', cv=10, n_jobs=4)\n",
    "\n",
    "# Fit the cross validated KNN to the training dataset and view the parameters of the best model\n",
    "gs.fit(x_train, y_train)\n",
    "\n",
    "# Get the best parameters and model scores\n",
    "best_GB_params = gs.best_params_\n",
    "print(\"Optimal gradient boosting parameters are: \", best_GB_params)\n",
    "gb_cv_scores = cross_val_score(gs, x_train, y_train, scoring='accuracy', cv=10)\n",
    "print(\"Average gradient boosting accuracy in cross validation: %.3f +/- %.3f\" % (np.mean(gb_cv_scores), np.std(gb_cv_scores)))\n",
    "gb_test_scores = accuracy_score(gs.predict(x_test), y_test)\n",
    "print(\"Gradient boosting accuracy in hold-out test Set: %0.3f\" % (gb_test_scores))"
   ]
  },
  {
   "cell_type": "code",
   "execution_count": 40,
   "metadata": {
    "collapsed": true
   },
   "outputs": [],
   "source": [
    "# Build GB with optimized parameters\n",
    "classifier5 = GradientBoostingClassifier(n_estimators=gs.best_params_['clf__n_estimators'],\n",
    "                                     loss=gs.best_params_['clf__loss'], \n",
    "                                     max_depth=gs.best_params_['clf__max_depth'],\n",
    "                                     learning_rate= gs.best_params_['clf__learning_rate'])"
   ]
  },
  {
   "cell_type": "markdown",
   "metadata": {},
   "source": [
    "#### Visualiza the performance of each model"
   ]
  },
  {
   "cell_type": "code",
   "execution_count": 102,
   "metadata": {
    "collapsed": false
   },
   "outputs": [
    {
     "data": {
      "text/plain": [
       "<matplotlib.text.Text at 0x23ae2a4a438>"
      ]
     },
     "execution_count": 102,
     "metadata": {},
     "output_type": "execute_result"
    },
    {
     "data": {
      "image/png": "[encoded data removed]",
      "text/plain": [
       "<matplotlib.figure.Figure at 0x23ae157b710>"
      ]
     },
     "metadata": {},
     "output_type": "display_data"
    }
   ],
   "source": [
    "Models = ['KNN', 'Tree', 'LG', 'Forest', \"Boosting\"]\n",
    "cv_score = [knn_cv_scores, dt_cv_scores, lg_cv_scores, rf_cv_scores, gb_cv_scores]\n",
    "test_score = [knn_test_scores, dt_test_scores, lg_test_scores, rf_test_scores, gb_test_scores]\n",
    "\n",
    "fig=plt.figure(figsize=(16,8))\n",
    "ax1 = fig.add_subplot(121)\n",
    "sns.boxplot(x=Models, y=cv_score)\n",
    "ax1.set_xticklabels(Models, fontsize=12)\n",
    "ax1.set_title(\"Cross Validation Scores\", fontsize = 14)\n",
    "\n",
    "ax2 = fig.add_subplot(122)\n",
    "x = [1,2,3,4,5]\n",
    "plt.scatter(x, test_score, s=50)\n",
    "ax2.set_xticklabels(Models, fontsize=12, rotation=40)\n",
    "ax2.set_title(\"Hold-out Test Set Scores\", fontsize = 14)"
   ]
  },
  {
   "cell_type": "markdown",
   "metadata": {},
   "source": [
    "#### 4.6 Model Ensemble"
   ]
  },
  {
   "cell_type": "code",
   "execution_count": 103,
   "metadata": {
    "collapsed": false
   },
   "outputs": [
    {
     "name": "stdout",
     "output_type": "stream",
     "text": [
      "Ensemble model accuracy in hold-out test Set: 0.827\n"
     ]
    }
   ],
   "source": [
    "# Set labels and build ensemble\n",
    "clf_labels = ['KNN', 'Decison Tree', 'Logistic Regression', 'Random Forest', 'Gradient Boosting', 'Majority Vote Classifier']\n",
    "mv_clf = mvc.MajorityVoteClassifier(classifiers=[classifier1, classifier2, classifier3, classifier4, classifier5])\n",
    "\n",
    "# Check ensemble model performance\n",
    "mv_clf.fit(x_train, y_train)\n",
    "ensemble_scores = accuracy_score(mv_clf.predict(x_test), y_test)\n",
    "print(\"Ensemble model accuracy in hold-out test Set: %0.3f\" % (ensemble_scores))"
   ]
  },
  {
   "cell_type": "code",
   "execution_count": null,
   "metadata": {
    "collapsed": true
   },
   "outputs": [],
   "source": [
    "\"\"\"\n",
    "mv_clf.fit(x, y)\n",
    "pred = (mv_clf.predict(df_test)).astype(int)\n",
    "df = pd.DataFrame({'Survived': pred,'PassengerId': test.PassengerId})\n",
    "df.to_csv('5_model_ensemble.csv', index = False)\n",
    "\"\"\""
   ]
  },
  {
   "cell_type": "markdown",
   "metadata": {},
   "source": [
    "### This ensemble model scored 79.99% on the public leader board, 800th/6100 teams\n",
    "### 5. Room for Improvement?\n",
    "    - Stack More Models\n",
    "    - Interaction Terms\n",
    "    - Any Suggestions"
   ]
  }
 ],
 "metadata": {
  "kernelspec": {
   "display_name": "Python 3",
   "language": "python",
   "name": "python3"
  },
  "language_info": {
   "codemirror_mode": {
    "name": "ipython",
    "version": 3
   },
   "file_extension": ".py",
   "mimetype": "text/x-python",
   "name": "python",
   "nbconvert_exporter": "python",
   "pygments_lexer": "ipython3",
   "version": "3.5.2"
  }
 },
 "nbformat": 4,
 "nbformat_minor": 0
}
